{
 "cells": [
  {
   "cell_type": "code",
   "execution_count": 16,
   "metadata": {},
   "outputs": [],
   "source": [
    "import pandas as pd"
   ]
  },
  {
   "cell_type": "code",
   "execution_count": 17,
   "metadata": {},
   "outputs": [],
   "source": [
    "#extension = 'Datos_Facturacion/retiros_19'\n",
    "#extension2='_h.csv''\n",
    "#for i in range(3):\n",
    "#    all_filenames = [ for i in glob.glob('*.{}'.format(extension))]\n",
    "\n",
    "for i in range(12:)\n",
    "\n",
    "a=pd.read_csv('Datos_Facturacion/retiros_1901_h.csv',encoding='latin-1')\n",
    "b=pd.read_csv('Datos_Facturacion/retiros_1902_h.csv',encoding='latin-1')\n",
    "c=pd.read_csv('Datos_Facturacion/retiros_1903_h.csv',encoding='latin-1')\n",
    "d=pd.read_csv('Datos_Facturacion/retiros_1904_h.csv',encoding='latin-1')\n",
    "e=pd.read_csv('Datos_Facturacion/retiros_1905_h.csv',encoding='latin-1')\n",
    "f=pd.read_csv('Datos_Facturacion/retiros_1906_h.csv',encoding='latin-1')\n",
    "g=pd.read_csv('Datos_Facturacion/retiros_1907_h.csv',encoding='latin-1')\n",
    "h=pd.read_csv('Datos_Facturacion/retiros_1908_h.csv',encoding='latin-1')\n",
    "i=pd.read_csv('Datos_Facturacion/retiros_1909_h.csv',encoding='latin-1')\n",
    "j=pd.read_csv('Datos_Facturacion/retiros_1910_h.csv',encoding='latin-1')\n",
    "k=pd.read_csv('Datos_Facturacion/retiros_1911_h.csv',encoding='latin-1')\n",
    "l=pd.read_csv('Datos_Facturacion/retiros_1912_h.csv',encoding='latin-1')\n",
    "              \n"
   ]
  },
  {
   "cell_type": "code",
   "execution_count": 39,
   "metadata": {},
   "outputs": [
    {
     "name": "stdout",
     "output_type": "stream",
     "text": [
      "0\n",
      "Datos_Facturacion/retiros_1901_h.csv\n",
      "1\n",
      "Datos_Facturacion/retiros_1902_h.csv\n"
     ]
    },
    {
     "ename": "ParserError",
     "evalue": "Error tokenizing data. C error: Calling read(nbytes) on source failed. Try engine='python'.",
     "output_type": "error",
     "traceback": [
      "\u001b[0;31m---------------------------------------------------------------------------\u001b[0m",
      "\u001b[0;31mParserError\u001b[0m                               Traceback (most recent call last)",
      "\u001b[0;32m<ipython-input-39-7a777f672e52>\u001b[0m in \u001b[0;36m<module>\u001b[0;34m()\u001b[0m\n\u001b[1;32m      9\u001b[0m         \u001b[0mnombre_archivo\u001b[0m\u001b[0;34m=\u001b[0m\u001b[0mnombre1\u001b[0m\u001b[0;34m+\u001b[0m\u001b[0mstr\u001b[0m\u001b[0;34m(\u001b[0m\u001b[0mi\u001b[0m\u001b[0;34m+\u001b[0m\u001b[0;36m1\u001b[0m\u001b[0;34m)\u001b[0m\u001b[0;34m+\u001b[0m\u001b[0mnombre2\u001b[0m\u001b[0;34m\u001b[0m\u001b[0;34m\u001b[0m\u001b[0m\n\u001b[1;32m     10\u001b[0m     \u001b[0mprint\u001b[0m\u001b[0;34m(\u001b[0m\u001b[0mnombre_archivo\u001b[0m\u001b[0;34m)\u001b[0m\u001b[0;34m\u001b[0m\u001b[0;34m\u001b[0m\u001b[0m\n\u001b[0;32m---> 11\u001b[0;31m     \u001b[0mmeses\u001b[0m\u001b[0;34m.\u001b[0m\u001b[0mappend\u001b[0m\u001b[0;34m(\u001b[0m\u001b[0mpd\u001b[0m\u001b[0;34m.\u001b[0m\u001b[0mread_csv\u001b[0m\u001b[0;34m(\u001b[0m\u001b[0mnombre_archivo\u001b[0m\u001b[0;34m,\u001b[0m\u001b[0mencoding\u001b[0m\u001b[0;34m=\u001b[0m\u001b[0;34m'latin-1'\u001b[0m\u001b[0;34m)\u001b[0m\u001b[0;34m)\u001b[0m\u001b[0;34m\u001b[0m\u001b[0;34m\u001b[0m\u001b[0m\n\u001b[0m\u001b[1;32m     12\u001b[0m \u001b[0;34m\u001b[0m\u001b[0m\n\u001b[1;32m     13\u001b[0m \u001b[0mcombined_csv\u001b[0m\u001b[0;34m=\u001b[0m \u001b[0mpd\u001b[0m\u001b[0;34m.\u001b[0m\u001b[0mconcat\u001b[0m\u001b[0;34m(\u001b[0m\u001b[0mmeses\u001b[0m\u001b[0;34m)\u001b[0m\u001b[0;34m\u001b[0m\u001b[0;34m\u001b[0m\u001b[0m\n",
      "\u001b[0;32m//anaconda3/envs/el4106/lib/python3.7/site-packages/pandas/io/parsers.py\u001b[0m in \u001b[0;36mread_csv\u001b[0;34m(filepath_or_buffer, sep, delimiter, header, names, index_col, usecols, squeeze, prefix, mangle_dupe_cols, dtype, engine, converters, true_values, false_values, skipinitialspace, skiprows, skipfooter, nrows, na_values, keep_default_na, na_filter, verbose, skip_blank_lines, parse_dates, infer_datetime_format, keep_date_col, date_parser, dayfirst, cache_dates, iterator, chunksize, compression, thousands, decimal, lineterminator, quotechar, quoting, doublequote, escapechar, comment, encoding, dialect, error_bad_lines, warn_bad_lines, delim_whitespace, low_memory, memory_map, float_precision)\u001b[0m\n\u001b[1;32m    684\u001b[0m     )\n\u001b[1;32m    685\u001b[0m \u001b[0;34m\u001b[0m\u001b[0m\n\u001b[0;32m--> 686\u001b[0;31m     \u001b[0;32mreturn\u001b[0m \u001b[0m_read\u001b[0m\u001b[0;34m(\u001b[0m\u001b[0mfilepath_or_buffer\u001b[0m\u001b[0;34m,\u001b[0m \u001b[0mkwds\u001b[0m\u001b[0;34m)\u001b[0m\u001b[0;34m\u001b[0m\u001b[0;34m\u001b[0m\u001b[0m\n\u001b[0m\u001b[1;32m    687\u001b[0m \u001b[0;34m\u001b[0m\u001b[0m\n\u001b[1;32m    688\u001b[0m \u001b[0;34m\u001b[0m\u001b[0m\n",
      "\u001b[0;32m//anaconda3/envs/el4106/lib/python3.7/site-packages/pandas/io/parsers.py\u001b[0m in \u001b[0;36m_read\u001b[0;34m(filepath_or_buffer, kwds)\u001b[0m\n\u001b[1;32m    456\u001b[0m \u001b[0;34m\u001b[0m\u001b[0m\n\u001b[1;32m    457\u001b[0m     \u001b[0;32mtry\u001b[0m\u001b[0;34m:\u001b[0m\u001b[0;34m\u001b[0m\u001b[0;34m\u001b[0m\u001b[0m\n\u001b[0;32m--> 458\u001b[0;31m         \u001b[0mdata\u001b[0m \u001b[0;34m=\u001b[0m \u001b[0mparser\u001b[0m\u001b[0;34m.\u001b[0m\u001b[0mread\u001b[0m\u001b[0;34m(\u001b[0m\u001b[0mnrows\u001b[0m\u001b[0;34m)\u001b[0m\u001b[0;34m\u001b[0m\u001b[0;34m\u001b[0m\u001b[0m\n\u001b[0m\u001b[1;32m    459\u001b[0m     \u001b[0;32mfinally\u001b[0m\u001b[0;34m:\u001b[0m\u001b[0;34m\u001b[0m\u001b[0;34m\u001b[0m\u001b[0m\n\u001b[1;32m    460\u001b[0m         \u001b[0mparser\u001b[0m\u001b[0;34m.\u001b[0m\u001b[0mclose\u001b[0m\u001b[0;34m(\u001b[0m\u001b[0;34m)\u001b[0m\u001b[0;34m\u001b[0m\u001b[0;34m\u001b[0m\u001b[0m\n",
      "\u001b[0;32m//anaconda3/envs/el4106/lib/python3.7/site-packages/pandas/io/parsers.py\u001b[0m in \u001b[0;36mread\u001b[0;34m(self, nrows)\u001b[0m\n\u001b[1;32m   1184\u001b[0m     \u001b[0;32mdef\u001b[0m \u001b[0mread\u001b[0m\u001b[0;34m(\u001b[0m\u001b[0mself\u001b[0m\u001b[0;34m,\u001b[0m \u001b[0mnrows\u001b[0m\u001b[0;34m=\u001b[0m\u001b[0;32mNone\u001b[0m\u001b[0;34m)\u001b[0m\u001b[0;34m:\u001b[0m\u001b[0;34m\u001b[0m\u001b[0;34m\u001b[0m\u001b[0m\n\u001b[1;32m   1185\u001b[0m         \u001b[0mnrows\u001b[0m \u001b[0;34m=\u001b[0m \u001b[0m_validate_integer\u001b[0m\u001b[0;34m(\u001b[0m\u001b[0;34m\"nrows\"\u001b[0m\u001b[0;34m,\u001b[0m \u001b[0mnrows\u001b[0m\u001b[0;34m)\u001b[0m\u001b[0;34m\u001b[0m\u001b[0;34m\u001b[0m\u001b[0m\n\u001b[0;32m-> 1186\u001b[0;31m         \u001b[0mret\u001b[0m \u001b[0;34m=\u001b[0m \u001b[0mself\u001b[0m\u001b[0;34m.\u001b[0m\u001b[0m_engine\u001b[0m\u001b[0;34m.\u001b[0m\u001b[0mread\u001b[0m\u001b[0;34m(\u001b[0m\u001b[0mnrows\u001b[0m\u001b[0;34m)\u001b[0m\u001b[0;34m\u001b[0m\u001b[0;34m\u001b[0m\u001b[0m\n\u001b[0m\u001b[1;32m   1187\u001b[0m \u001b[0;34m\u001b[0m\u001b[0m\n\u001b[1;32m   1188\u001b[0m         \u001b[0;31m# May alter columns / col_dict\u001b[0m\u001b[0;34m\u001b[0m\u001b[0;34m\u001b[0m\u001b[0;34m\u001b[0m\u001b[0m\n",
      "\u001b[0;32m//anaconda3/envs/el4106/lib/python3.7/site-packages/pandas/io/parsers.py\u001b[0m in \u001b[0;36mread\u001b[0;34m(self, nrows)\u001b[0m\n\u001b[1;32m   2143\u001b[0m     \u001b[0;32mdef\u001b[0m \u001b[0mread\u001b[0m\u001b[0;34m(\u001b[0m\u001b[0mself\u001b[0m\u001b[0;34m,\u001b[0m \u001b[0mnrows\u001b[0m\u001b[0;34m=\u001b[0m\u001b[0;32mNone\u001b[0m\u001b[0;34m)\u001b[0m\u001b[0;34m:\u001b[0m\u001b[0;34m\u001b[0m\u001b[0;34m\u001b[0m\u001b[0m\n\u001b[1;32m   2144\u001b[0m         \u001b[0;32mtry\u001b[0m\u001b[0;34m:\u001b[0m\u001b[0;34m\u001b[0m\u001b[0;34m\u001b[0m\u001b[0m\n\u001b[0;32m-> 2145\u001b[0;31m             \u001b[0mdata\u001b[0m \u001b[0;34m=\u001b[0m \u001b[0mself\u001b[0m\u001b[0;34m.\u001b[0m\u001b[0m_reader\u001b[0m\u001b[0;34m.\u001b[0m\u001b[0mread\u001b[0m\u001b[0;34m(\u001b[0m\u001b[0mnrows\u001b[0m\u001b[0;34m)\u001b[0m\u001b[0;34m\u001b[0m\u001b[0;34m\u001b[0m\u001b[0m\n\u001b[0m\u001b[1;32m   2146\u001b[0m         \u001b[0;32mexcept\u001b[0m \u001b[0mStopIteration\u001b[0m\u001b[0;34m:\u001b[0m\u001b[0;34m\u001b[0m\u001b[0;34m\u001b[0m\u001b[0m\n\u001b[1;32m   2147\u001b[0m             \u001b[0;32mif\u001b[0m \u001b[0mself\u001b[0m\u001b[0;34m.\u001b[0m\u001b[0m_first_chunk\u001b[0m\u001b[0;34m:\u001b[0m\u001b[0;34m\u001b[0m\u001b[0;34m\u001b[0m\u001b[0m\n",
      "\u001b[0;32mpandas/_libs/parsers.pyx\u001b[0m in \u001b[0;36mpandas._libs.parsers.TextReader.read\u001b[0;34m()\u001b[0m\n",
      "\u001b[0;32mpandas/_libs/parsers.pyx\u001b[0m in \u001b[0;36mpandas._libs.parsers.TextReader._read_low_memory\u001b[0;34m()\u001b[0m\n",
      "\u001b[0;32mpandas/_libs/parsers.pyx\u001b[0m in \u001b[0;36mpandas._libs.parsers.TextReader._read_rows\u001b[0;34m()\u001b[0m\n",
      "\u001b[0;32mpandas/_libs/parsers.pyx\u001b[0m in \u001b[0;36mpandas._libs.parsers.TextReader._tokenize_rows\u001b[0;34m()\u001b[0m\n",
      "\u001b[0;32mpandas/_libs/parsers.pyx\u001b[0m in \u001b[0;36mpandas._libs.parsers.raise_parser_error\u001b[0;34m()\u001b[0m\n",
      "\u001b[0;31mParserError\u001b[0m: Error tokenizing data. C error: Calling read(nbytes) on source failed. Try engine='python'."
     ]
    }
   ],
   "source": [
    "nombre1='Datos_Facturacion/retiros_19'\n",
    "nombre2='_h.csv'\n",
    "meses=[]\n",
    "for i in range(12):\n",
    "    if i<9:\n",
    "        nombre_archivo=nombre1+'0'+str(i+1)+nombre2\n",
    "    else:\n",
    "        nombre_archivo=nombre1+str(i+1)+nombre2\n",
    "    meses.append(pd.read_csv(nombre_archivo,encoding='latin-1'))\n",
    " \n",
    "combined_csv= pd.concat(meses)"
   ]
  },
  {
   "cell_type": "code",
   "execution_count": 18,
   "metadata": {
    "scrolled": true
   },
   "outputs": [
    {
     "data": {
      "text/html": [
       "<div>\n",
       "<style scoped>\n",
       "    .dataframe tbody tr th:only-of-type {\n",
       "        vertical-align: middle;\n",
       "    }\n",
       "\n",
       "    .dataframe tbody tr th {\n",
       "        vertical-align: top;\n",
       "    }\n",
       "\n",
       "    .dataframe thead th {\n",
       "        text-align: right;\n",
       "    }\n",
       "</style>\n",
       "<table border=\"1\" class=\"dataframe\">\n",
       "  <thead>\n",
       "    <tr style=\"text-align: right;\">\n",
       "      <th></th>\n",
       "      <th>Razón Social Suministrador</th>\n",
       "      <th>RUT Suministrador</th>\n",
       "      <th>Razón Social Cliente</th>\n",
       "      <th>RUT Cliente</th>\n",
       "      <th>Comuna</th>\n",
       "      <th>Region</th>\n",
       "      <th>PuntoConexion</th>\n",
       "      <th>Tipo de Cliente</th>\n",
       "      <th>Año</th>\n",
       "      <th>Mes</th>\n",
       "      <th>Dia</th>\n",
       "      <th>Hora_dia</th>\n",
       "      <th>Retiro [MWh]</th>\n",
       "    </tr>\n",
       "  </thead>\n",
       "  <tbody>\n",
       "    <tr>\n",
       "      <th>0</th>\n",
       "      <td>AASA ENERGIA S.A.</td>\n",
       "      <td>76596827-5</td>\n",
       "      <td>AGRICOLA AASA LTDA.</td>\n",
       "      <td>79580160-K</td>\n",
       "      <td>Melipilla</td>\n",
       "      <td>Metropolitana De Santiago</td>\n",
       "      <td>Bollenar 13.2</td>\n",
       "      <td>LIBRE</td>\n",
       "      <td>2019</td>\n",
       "      <td>ENE</td>\n",
       "      <td>1</td>\n",
       "      <td>1</td>\n",
       "      <td>0.306637</td>\n",
       "    </tr>\n",
       "    <tr>\n",
       "      <th>1</th>\n",
       "      <td>AASA ENERGIA S.A.</td>\n",
       "      <td>76596827-5</td>\n",
       "      <td>AGRICOLA AASA LTDA.</td>\n",
       "      <td>79580160-K</td>\n",
       "      <td>Melipilla</td>\n",
       "      <td>Metropolitana De Santiago</td>\n",
       "      <td>Bollenar 13.2</td>\n",
       "      <td>LIBRE</td>\n",
       "      <td>2019</td>\n",
       "      <td>ENE</td>\n",
       "      <td>1</td>\n",
       "      <td>2</td>\n",
       "      <td>0.242759</td>\n",
       "    </tr>\n",
       "    <tr>\n",
       "      <th>2</th>\n",
       "      <td>AASA ENERGIA S.A.</td>\n",
       "      <td>76596827-5</td>\n",
       "      <td>AGRICOLA AASA LTDA.</td>\n",
       "      <td>79580160-K</td>\n",
       "      <td>Melipilla</td>\n",
       "      <td>Metropolitana De Santiago</td>\n",
       "      <td>Bollenar 13.2</td>\n",
       "      <td>LIBRE</td>\n",
       "      <td>2019</td>\n",
       "      <td>ENE</td>\n",
       "      <td>1</td>\n",
       "      <td>3</td>\n",
       "      <td>0.000000</td>\n",
       "    </tr>\n",
       "    <tr>\n",
       "      <th>3</th>\n",
       "      <td>AASA ENERGIA S.A.</td>\n",
       "      <td>76596827-5</td>\n",
       "      <td>AGRICOLA AASA LTDA.</td>\n",
       "      <td>79580160-K</td>\n",
       "      <td>Melipilla</td>\n",
       "      <td>Metropolitana De Santiago</td>\n",
       "      <td>Bollenar 13.2</td>\n",
       "      <td>LIBRE</td>\n",
       "      <td>2019</td>\n",
       "      <td>ENE</td>\n",
       "      <td>1</td>\n",
       "      <td>4</td>\n",
       "      <td>0.000000</td>\n",
       "    </tr>\n",
       "    <tr>\n",
       "      <th>4</th>\n",
       "      <td>AASA ENERGIA S.A.</td>\n",
       "      <td>76596827-5</td>\n",
       "      <td>AGRICOLA AASA LTDA.</td>\n",
       "      <td>79580160-K</td>\n",
       "      <td>Melipilla</td>\n",
       "      <td>Metropolitana De Santiago</td>\n",
       "      <td>Bollenar 13.2</td>\n",
       "      <td>LIBRE</td>\n",
       "      <td>2019</td>\n",
       "      <td>ENE</td>\n",
       "      <td>1</td>\n",
       "      <td>5</td>\n",
       "      <td>0.000000</td>\n",
       "    </tr>\n",
       "  </tbody>\n",
       "</table>\n",
       "</div>"
      ],
      "text/plain": [
       "  Razón Social Suministrador RUT Suministrador Razón Social Cliente  \\\n",
       "0          AASA ENERGIA S.A.        76596827-5  AGRICOLA AASA LTDA.   \n",
       "1          AASA ENERGIA S.A.        76596827-5  AGRICOLA AASA LTDA.   \n",
       "2          AASA ENERGIA S.A.        76596827-5  AGRICOLA AASA LTDA.   \n",
       "3          AASA ENERGIA S.A.        76596827-5  AGRICOLA AASA LTDA.   \n",
       "4          AASA ENERGIA S.A.        76596827-5  AGRICOLA AASA LTDA.   \n",
       "\n",
       "  RUT Cliente     Comuna                     Region  PuntoConexion  \\\n",
       "0  79580160-K  Melipilla  Metropolitana De Santiago  Bollenar 13.2   \n",
       "1  79580160-K  Melipilla  Metropolitana De Santiago  Bollenar 13.2   \n",
       "2  79580160-K  Melipilla  Metropolitana De Santiago  Bollenar 13.2   \n",
       "3  79580160-K  Melipilla  Metropolitana De Santiago  Bollenar 13.2   \n",
       "4  79580160-K  Melipilla  Metropolitana De Santiago  Bollenar 13.2   \n",
       "\n",
       "  Tipo de Cliente   Año  Mes  Dia  Hora_dia  Retiro [MWh]  \n",
       "0           LIBRE  2019  ENE    1         1      0.306637  \n",
       "1           LIBRE  2019  ENE    1         2      0.242759  \n",
       "2           LIBRE  2019  ENE    1         3      0.000000  \n",
       "3           LIBRE  2019  ENE    1         4      0.000000  \n",
       "4           LIBRE  2019  ENE    1         5      0.000000  "
      ]
     },
     "execution_count": 18,
     "metadata": {},
     "output_type": "execute_result"
    }
   ],
   "source": [
    "combined_csv.head()"
   ]
  },
  {
   "cell_type": "code",
   "execution_count": 6,
   "metadata": {},
   "outputs": [
    {
     "data": {
      "text/plain": [
       "Razón Social Suministrador     object\n",
       "RUT Suministrador              object\n",
       "Razón Social Cliente           object\n",
       "RUT Cliente                    object\n",
       "Comuna                         object\n",
       "Region                         object\n",
       "PuntoConexion                  object\n",
       "Tipo de Cliente                object\n",
       "Año                             int64\n",
       "Mes                            object\n",
       "Dia                             int64\n",
       "Hora_dia                        int64\n",
       "Retiro [MWh]                  float64\n",
       "dtype: object"
      ]
     },
     "execution_count": 6,
     "metadata": {},
     "output_type": "execute_result"
    }
   ],
   "source": [
    "a.dtypes"
   ]
  },
  {
   "cell_type": "code",
   "execution_count": 7,
   "metadata": {},
   "outputs": [],
   "source": []
  },
  {
   "cell_type": "code",
   "execution_count": 14,
   "metadata": {},
   "outputs": [
    {
     "data": {
      "text/plain": [
       "(9014304, 13)"
      ]
     },
     "execution_count": 14,
     "metadata": {},
     "output_type": "execute_result"
    }
   ],
   "source": [
    "a.shape"
   ]
  },
  {
   "cell_type": "code",
   "execution_count": 15,
   "metadata": {},
   "outputs": [
    {
     "data": {
      "text/plain": [
       "(26226744, 13)"
      ]
     },
     "execution_count": 15,
     "metadata": {},
     "output_type": "execute_result"
    }
   ],
   "source": [
    "combined_csv.shape"
   ]
  },
  {
   "cell_type": "code",
   "execution_count": 19,
   "metadata": {},
   "outputs": [
    {
     "data": {
      "text/plain": [
       "(117085416, 13)"
      ]
     },
     "execution_count": 19,
     "metadata": {},
     "output_type": "execute_result"
    }
   ],
   "source": [
    "combined_csv.shape"
   ]
  },
  {
   "cell_type": "code",
   "execution_count": 20,
   "metadata": {},
   "outputs": [
    {
     "data": {
      "text/plain": [
       "Razón Social Suministrador    False\n",
       "RUT Suministrador             False\n",
       "Razón Social Cliente          False\n",
       "RUT Cliente                   False\n",
       "Comuna                        False\n",
       "Region                        False\n",
       "PuntoConexion                 False\n",
       "Tipo de Cliente               False\n",
       "Año                           False\n",
       "Mes                           False\n",
       "Dia                           False\n",
       "Hora_dia                      False\n",
       "Retiro [MWh]                  False\n",
       "dtype: bool"
      ]
     },
     "execution_count": 20,
     "metadata": {},
     "output_type": "execute_result"
    }
   ],
   "source": [
    "combined_csv.isna().any(axis=0)"
   ]
  },
  {
   "cell_type": "code",
   "execution_count": null,
   "metadata": {},
   "outputs": [],
   "source": []
  }
 ],
 "metadata": {
  "kernelspec": {
   "display_name": "Python 3",
   "language": "python",
   "name": "python3"
  },
  "language_info": {
   "codemirror_mode": {
    "name": "ipython",
    "version": 3
   },
   "file_extension": ".py",
   "mimetype": "text/x-python",
   "name": "python",
   "nbconvert_exporter": "python",
   "pygments_lexer": "ipython3",
   "version": "3.7.9"
  }
 },
 "nbformat": 4,
 "nbformat_minor": 4
}
